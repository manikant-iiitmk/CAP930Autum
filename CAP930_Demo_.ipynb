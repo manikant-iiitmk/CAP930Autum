{
  "nbformat": 4,
  "nbformat_minor": 0,
  "metadata": {
    "colab": {
      "name": "CAP930 Demo .ipynb",
      "version": "0.3.2",
      "provenance": [],
      "include_colab_link": true
    },
    "kernelspec": {
      "name": "python3",
      "display_name": "Python 3"
    }
  },
  "cells": [
    {
      "cell_type": "markdown",
      "metadata": {
        "id": "view-in-github",
        "colab_type": "text"
      },
      "source": [
        "[View in Colaboratory](https://colab.research.google.com/github/manikant-iiitmk/CAP930Autum/blob/master/CAP930_Demo_.ipynb)"
      ]
    },
    {
      "metadata": {
        "id": "Nnq_9dDDEKON",
        "colab_type": "code",
        "colab": {}
      },
      "cell_type": "code",
      "source": [
        "import numpy as np "
      ],
      "execution_count": 0,
      "outputs": []
    },
    {
      "metadata": {
        "id": "HtUOmApEERhr",
        "colab_type": "text"
      },
      "cell_type": "markdown",
      "source": [
        "***This is numpy libaray used for array creation ***"
      ]
    },
    {
      "metadata": {
        "id": "ZhDDnsD7EXb4",
        "colab_type": "code",
        "colab": {}
      },
      "cell_type": "code",
      "source": [
        "X= np.array(24)"
      ],
      "execution_count": 0,
      "outputs": []
    },
    {
      "metadata": {
        "id": "jd1eHMioEbXr",
        "colab_type": "code",
        "colab": {
          "base_uri": "https://localhost:8080/",
          "height": 34
        },
        "outputId": "b8a5875a-c359-4c92-888a-795a7c4530c8"
      },
      "cell_type": "code",
      "source": [
        "print(X)"
      ],
      "execution_count": 3,
      "outputs": [
        {
          "output_type": "stream",
          "text": [
            "24\n"
          ],
          "name": "stdout"
        }
      ]
    },
    {
      "metadata": {
        "id": "FgCQdRZUEecq",
        "colab_type": "code",
        "colab": {
          "base_uri": "https://localhost:8080/",
          "height": 34
        },
        "outputId": "fba780f7-214f-40cc-cbae-0d8610fb7b46"
      },
      "cell_type": "code",
      "source": [
        "print('A scalar of rank %d',X.ndim)"
      ],
      "execution_count": 4,
      "outputs": [
        {
          "output_type": "stream",
          "text": [
            "A scalar of rank %d 0\n"
          ],
          "name": "stdout"
        }
      ]
    }
  ]
}